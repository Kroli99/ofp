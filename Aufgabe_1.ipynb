{
 "cells": [
  {
   "cell_type": "code",
   "execution_count": 7,
   "metadata": {},
   "outputs": [],
   "source": [
    "from functools import reduce\n",
    "from typing import Callable"
   ]
  },
  {
   "cell_type": "markdown",
   "metadata": {},
   "source": [
    "# Folgende Aufgabe lösen\n",
    "1) anzahl_gerade (mittels reduce und filter)\n",
    "1) curry\n",
    "2) mein_filter (mittels reduce)"
   ]
  },
  {
   "cell_type": "code",
   "execution_count": 5,
   "metadata": {},
   "outputs": [
    {
     "name": "stdout",
     "output_type": "stream",
     "text": [
      "4.0\n"
     ]
    }
   ],
   "source": [
    "xs = [1, 2, 3, 4, 5, 6, 7, 8, 9]\n",
    "\n",
    "def anzahl_gerade (xs: list) -> int:\n",
    "    return reduce(lambda x, y: x + y/y, list(filter(lambda x: x % 2 == 0, xs)), 0)\n",
    "\n",
    "print(anzahl_gerade(xs))\n",
    "\n"
   ]
  },
  {
   "cell_type": "code",
   "execution_count": 9,
   "metadata": {},
   "outputs": [
    {
     "data": {
      "text/plain": [
       "10"
      ]
     },
     "execution_count": 9,
     "metadata": {},
     "output_type": "execute_result"
    }
   ],
   "source": [
    "def foo(x: int, y: int, z: int) -> int:\n",
    "    return x + y + z\n",
    "\n",
    "def curry(f : Callable , x) -> Callable:\n",
    "    return lambda *args: f(x , *args)\n",
    "\n",
    "bar = curry(foo, 5)\n",
    "bar(3, 2)"
   ]
  },
  {
   "cell_type": "code",
   "execution_count": 11,
   "metadata": {},
   "outputs": [
    {
     "ename": "TypeError",
     "evalue": "'bool' object is not iterable",
     "output_type": "error",
     "traceback": [
      "\u001b[1;31m---------------------------------------------------------------------------\u001b[0m",
      "\u001b[1;31mTypeError\u001b[0m                                 Traceback (most recent call last)",
      "\u001b[1;32mc:\\dev\\ofp\\Aufgabe_1.ipynb Cell 5\u001b[0m line \u001b[0;36m4\n\u001b[0;32m      <a href='vscode-notebook-cell:/c%3A/dev/ofp/Aufgabe_1.ipynb#W5sZmlsZQ%3D%3D?line=0'>1</a>\u001b[0m \u001b[39mdef\u001b[39;00m \u001b[39mmein_filter\u001b[39m (x: \u001b[39mint\u001b[39m, xs: \u001b[39mlist\u001b[39m) \u001b[39m-\u001b[39m\u001b[39m>\u001b[39m \u001b[39mlist\u001b[39m:\n\u001b[0;32m      <a href='vscode-notebook-cell:/c%3A/dev/ofp/Aufgabe_1.ipynb#W5sZmlsZQ%3D%3D?line=1'>2</a>\u001b[0m     \u001b[39mreturn\u001b[39;00m \u001b[39mlist\u001b[39m(reduce(\u001b[39mlambda\u001b[39;00m x, y: x \u001b[39m>\u001b[39m y, xs, \u001b[39m0\u001b[39m))\n\u001b[1;32m----> <a href='vscode-notebook-cell:/c%3A/dev/ofp/Aufgabe_1.ipynb#W5sZmlsZQ%3D%3D?line=3'>4</a>\u001b[0m \u001b[39mprint\u001b[39m(mein_filter(\u001b[39m5\u001b[39m, xs))\n",
      "\u001b[1;32mc:\\dev\\ofp\\Aufgabe_1.ipynb Cell 5\u001b[0m line \u001b[0;36m2\n\u001b[0;32m      <a href='vscode-notebook-cell:/c%3A/dev/ofp/Aufgabe_1.ipynb#W5sZmlsZQ%3D%3D?line=0'>1</a>\u001b[0m \u001b[39mdef\u001b[39;00m \u001b[39mmein_filter\u001b[39m (x: \u001b[39mint\u001b[39m, xs: \u001b[39mlist\u001b[39m) \u001b[39m-\u001b[39m\u001b[39m>\u001b[39m \u001b[39mlist\u001b[39m:\n\u001b[1;32m----> <a href='vscode-notebook-cell:/c%3A/dev/ofp/Aufgabe_1.ipynb#W5sZmlsZQ%3D%3D?line=1'>2</a>\u001b[0m     \u001b[39mreturn\u001b[39;00m \u001b[39mlist\u001b[39;49m(reduce(\u001b[39mlambda\u001b[39;49;00m x, y: x \u001b[39m>\u001b[39;49m y, xs, \u001b[39m0\u001b[39;49m))\n",
      "\u001b[1;31mTypeError\u001b[0m: 'bool' object is not iterable"
     ]
    }
   ],
   "source": [
    "def mein_filter (x: int, xs: list) -> list:\n",
    "    return list(reduce(lambda x, y: x > y, xs, 0))\n"
   ]
  }
 ],
 "metadata": {
  "kernelspec": {
   "display_name": "Python 3",
   "language": "python",
   "name": "python3"
  },
  "language_info": {
   "codemirror_mode": {
    "name": "ipython",
    "version": 3
   },
   "file_extension": ".py",
   "mimetype": "text/x-python",
   "name": "python",
   "nbconvert_exporter": "python",
   "pygments_lexer": "ipython3",
   "version": "3.10.7"
  },
  "orig_nbformat": 4
 },
 "nbformat": 4,
 "nbformat_minor": 2
}
